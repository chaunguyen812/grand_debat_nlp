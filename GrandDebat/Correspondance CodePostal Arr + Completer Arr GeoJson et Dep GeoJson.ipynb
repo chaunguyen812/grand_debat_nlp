{
 "cells": [
  {
   "cell_type": "code",
   "execution_count": 1,
   "metadata": {
    "collapsed": true
   },
   "outputs": [],
   "source": [
    "import os\n",
    "os.chdir(\"/home/emma/Documents/NLP/Topic Modeling sur Grand Debat\")\n",
    "\n",
    "import pandas as pd\n",
    "import geopandas as gpd\n",
    "import numpy as np"
   ]
  },
  {
   "cell_type": "markdown",
   "metadata": {},
   "source": [
    "## Correspondance Code Postal - Arrondissement"
   ]
  },
  {
   "cell_type": "code",
   "execution_count": null,
   "metadata": {
    "collapsed": true
   },
   "outputs": [],
   "source": [
    "# On utilise 2 bases car aucune des 2 n'est vraiment complète\n",
    "# Base communes - codes postaux 1 :\n",
    "# + : contient plus de codes postaux de la métropole\n",
    "# + : indique l'arrondissement\n",
    "# - : ne contient pas les domtom\n",
    "zc_df = pd.read_csv(\"Data/GeoData/code-insee-postaux-geoflar.csv\", sep=\";\", dtype=str)\n",
    "\n",
    "zc_df.columns = [ name.replace(\" \", \"_\").lower() for name in zc_df.columns]\n",
    "zc_df= zc_df[[\"code_insee\",\"code_postal\",\"nom_dept\",\"code_dept\",\"nom_region\",\"code_arrondissement\"]] \n",
    "\n",
    "# Base communes - codes postaux 2\n",
    "# - : ne donne pas l'arrondissement\n",
    "# + : contient les domtom\n",
    "zc_df2 = pd.read_csv(\"Data/GeoData/laposte_hexasmal.csv\", sep=\";\",dtype=str)\n",
    "zc_df2 = zc_df2.rename(columns={\"Code_commune_INSEE\":\"code_insee\", \"Code_postal\":\"code_postal\"})\n",
    "zc_df2 = zc_df2[[\"code_insee\",\"code_postal\"]]\n",
    "\n",
    "\n",
    "# Affectation commune - arrondissent\n",
    "city_df = pd.read_csv(\"Data/GeoData/liste-communes.csv\", sep=\",\", dtype=str, encoding=\"latin-1\")\n",
    "city_df.columns = [name.lower() for name in city_df.columns]"
   ]
  },
  {
   "cell_type": "code",
   "execution_count": null,
   "metadata": {
    "collapsed": true
   },
   "outputs": [],
   "source": [
    "# Créer code arrondissement à partir du code départment et du numéro d'arrondissement\n",
    "# Attention cas spécial pour les domotom\n",
    "zc_df[\"code_arr\"] = np.where(zc_df.code_dept.str.len()==2, zc_df.code_dept + \"00\" + zc_df.code_arrondissement, zc_df.code_dept + \"0\" + zc_df.code_arrondissement) \n",
    "city_df[\"code_arr\"] = np.where(city_df.dep.str.len()==2, city_df.dep + \"00\" + city_df.ar, city_df.dep + \"0\" + city_df.ar) \n",
    "\n",
    "# Code Insee : code département + code commune\n",
    "city_df[\"code_insee\"] = city_df.dep + \"\" + city_df.com\n",
    "\n",
    "city_df.head()\n",
    "zc_df.head()\n",
    "zc_df.head()"
   ]
  },
  {
   "cell_type": "code",
   "execution_count": null,
   "metadata": {
    "collapsed": true
   },
   "outputs": [],
   "source": [
    "# Rajoute codes postaux sur la table de correspondance commune-arrondissement\n",
    "city_df  = city_df.merge(zc_df2, on=\"code_insee\", how=\"inner\")\n",
    "\n",
    "# Merge la table correspondance commune-arrondissement\n",
    "zc_df = zc_df.merge(city_df[[\"code_insee\", \"code_arr\", \"code_postal\"]], on=\"code_insee\", how=\"outer\", suffixes=(\"\",\"_b\"))\n",
    "zc_df.head()"
   ]
  },
  {
   "cell_type": "code",
   "execution_count": null,
   "metadata": {
    "collapsed": true
   },
   "outputs": [],
   "source": [
    "# 3 cas :\n",
    "# 1. Arrondissement était manquant dans la base code postal 1 => on prend celui de la table correspondance\n",
    "zc_df.code_arr = zc_df.code_arr.fillna(zc_df.code_arr_b)\n",
    "# 2. Conflit entre la base Codes Postaux 1 et la table de correspondace au niveau de l'arrondissement \n",
    "# => on prend l'arrondissment de la table de correspondance car cette table est plus récente\n",
    "# (il y a eu des changements en 2017)\n",
    "zc_df.code_arr = np.where(((zc_df.code_arr != zc_df.code_arr_b)&(~ zc_df.code_arr_b.isnull())),\n",
    "                          zc_df.code_arr_b, \n",
    "                          zc_df.code_arr)\n",
    "# 3. Arrondissement manquant dans les 2 bases : on supprime ces lignes\n",
    "zc_df = zc_df.dropna(subset=[\"code_arr\"])"
   ]
  },
  {
   "cell_type": "code",
   "execution_count": null,
   "metadata": {
    "collapsed": true
   },
   "outputs": [],
   "source": [
    "# Comme un code postal = plusieurs communes, il arrive parfois que certaines villes partagent le même code\n",
    "# postal mais pas le même arrondissement => on ne peut pas faire de correspondance parfaite entre code postal et\n",
    "# arrondissement.\n",
    "\n",
    "# Malgrè tout, on choisit d'attribuer à un code postal, l'arrondissement départemental le plus courant parmi les \n",
    "# les villes qui partagent ce code postal\n",
    "# Exemple :\n",
    "# Ville1,Ville2, Ville3 et Ville4 ont le même code postal XXXXX\n",
    "# Ville1 Arr=1; Ville2 Arr=1; Ville3 Arr=2; Ville4 Arr=1 \n",
    "# Au code postal XXXXX, on  associe l'arrondissement => 1\n",
    "\n",
    "top_arr = zc_df[[\"code_postal\", \"code_arr\"]].groupby(\"code_postal\").agg(lambda x: x.value_counts().index[0])\\\n",
    "                                            .reset_index()\n",
    "top_arr.head()"
   ]
  },
  {
   "cell_type": "code",
   "execution_count": null,
   "metadata": {
    "collapsed": true
   },
   "outputs": [],
   "source": [
    "#Export\n",
    "top_arr.to_csv(\"Data/GeoData/corresp_arrondissement_code_postal.csv\", index=False)"
   ]
  },
  {
   "cell_type": "markdown",
   "metadata": {},
   "source": [
    "## Rajouter noms du département et de la région dans le GEOJSON avec les arrondissement départementaux"
   ]
  },
  {
   "cell_type": "code",
   "execution_count": null,
   "metadata": {},
   "outputs": [],
   "source": [
    "# GeoJSON avec contours des arrondissements départementaux\n",
    "geo_df = gpd.read_file(\"Data/GeoData/arrondissements-avec-outre-mer.geojson\")\n",
    "geo_df_44 = gpd.read_file(\"Data/GeoData/arrondissements44.geojson\")\n",
    " \n",
    "# Base avec les noms des départements et de leur région\n",
    "dep_df = pd.read_csv(\"Data/GeoData/departements-france.csv\", sep=\",\",dtype=str)\n",
    "dep_df = dep_df.rename(columns= {\"code_departement\":\"code_dep\", \"nom_departement\":\"nom_dep\", \"nom_region\":\"nom_region\"})\n",
    "dep_df.head()"
   ]
  },
  {
   "cell_type": "code",
   "execution_count": null,
   "metadata": {
    "collapsed": true
   },
   "outputs": [],
   "source": [
    "geo_df = geo_df.append(geo_df_44[(geo_df_44.code == \"44001\")|(geo_df_44.code == \"44004\")],ignore_index=True)"
   ]
  },
  {
   "cell_type": "code",
   "execution_count": null,
   "metadata": {},
   "outputs": [],
   "source": [
    "# Extraire le code du département depuis le code arrondissement\n",
    "geo_df[\"code_dep\"] = geo_df.code.str[:2]\n",
    "geo_df[\"code_dep\"] =  np.where((geo_df[\"code_dep\"]==\"97\")| (geo_df[\"code_dep\"]==\"98\"),\n",
    "                               geo_df.code.str[:3],\n",
    "                               geo_df.code_dep)\n",
    "geo_df.head()"
   ]
  },
  {
   "cell_type": "code",
   "execution_count": null,
   "metadata": {},
   "outputs": [],
   "source": [
    "geo_df_44"
   ]
  },
  {
   "cell_type": "code",
   "execution_count": null,
   "metadata": {},
   "outputs": [],
   "source": [
    "geo_df[geo_df.code_dep==\"44\"]"
   ]
  },
  {
   "cell_type": "code",
   "execution_count": null,
   "metadata": {},
   "outputs": [],
   "source": [
    "geo_df = geo_df.merge(dep_df[[\"code_dep\", \"nom_dep\", \"nom_region\"]], on=\"code_dep\", how=\"left\")\n",
    "geo_df.head()"
   ]
  },
  {
   "cell_type": "code",
   "execution_count": null,
   "metadata": {
    "collapsed": true
   },
   "outputs": [],
   "source": [
    "# Export\n",
    "geo_df.to_file(\"Data/GeoData/arrondissements-dep-region.geojson\", driver='GeoJSON')\n"
   ]
  },
  {
   "cell_type": "markdown",
   "metadata": {},
   "source": [
    "## Rajouter les noms des régions dans le GeoJson avec les départements"
   ]
  },
  {
   "cell_type": "code",
   "execution_count": 10,
   "metadata": {},
   "outputs": [
    {
     "data": {
      "text/html": [
       "<div>\n",
       "<style>\n",
       "    .dataframe thead tr:only-child th {\n",
       "        text-align: right;\n",
       "    }\n",
       "\n",
       "    .dataframe thead th {\n",
       "        text-align: left;\n",
       "    }\n",
       "\n",
       "    .dataframe tbody tr th {\n",
       "        vertical-align: top;\n",
       "    }\n",
       "</style>\n",
       "<table border=\"1\" class=\"dataframe\">\n",
       "  <thead>\n",
       "    <tr style=\"text-align: right;\">\n",
       "      <th></th>\n",
       "      <th>code_dep</th>\n",
       "      <th>nom_dep</th>\n",
       "      <th>code_region</th>\n",
       "      <th>nom_region</th>\n",
       "    </tr>\n",
       "  </thead>\n",
       "  <tbody>\n",
       "    <tr>\n",
       "      <th>0</th>\n",
       "      <td>01</td>\n",
       "      <td>Ain</td>\n",
       "      <td>84</td>\n",
       "      <td>Auvergne-Rhône-Alpes</td>\n",
       "    </tr>\n",
       "    <tr>\n",
       "      <th>1</th>\n",
       "      <td>02</td>\n",
       "      <td>Aisne</td>\n",
       "      <td>32</td>\n",
       "      <td>Hauts-de-France</td>\n",
       "    </tr>\n",
       "    <tr>\n",
       "      <th>2</th>\n",
       "      <td>03</td>\n",
       "      <td>Allier</td>\n",
       "      <td>84</td>\n",
       "      <td>Auvergne-Rhône-Alpes</td>\n",
       "    </tr>\n",
       "    <tr>\n",
       "      <th>3</th>\n",
       "      <td>04</td>\n",
       "      <td>Alpes-de-Haute-Provence</td>\n",
       "      <td>93</td>\n",
       "      <td>Provence-Alpes-Côte d'Azur</td>\n",
       "    </tr>\n",
       "    <tr>\n",
       "      <th>4</th>\n",
       "      <td>05</td>\n",
       "      <td>Hautes-Alpes</td>\n",
       "      <td>93</td>\n",
       "      <td>Provence-Alpes-Côte d'Azur</td>\n",
       "    </tr>\n",
       "  </tbody>\n",
       "</table>\n",
       "</div>"
      ],
      "text/plain": [
       "  code_dep                  nom_dep code_region                  nom_region\n",
       "0       01                      Ain          84        Auvergne-Rhône-Alpes\n",
       "1       02                    Aisne          32             Hauts-de-France\n",
       "2       03                   Allier          84        Auvergne-Rhône-Alpes\n",
       "3       04  Alpes-de-Haute-Provence          93  Provence-Alpes-Côte d'Azur\n",
       "4       05             Hautes-Alpes          93  Provence-Alpes-Côte d'Azur"
      ]
     },
     "execution_count": 10,
     "metadata": {},
     "output_type": "execute_result"
    }
   ],
   "source": [
    "geo_df = gpd.read_file(\"Data/GeoData/departements-avec-outre-mer.geojson\")\n",
    "geo_df.head()\n",
    "\n",
    "# Base avec les noms des départements et de leur région\n",
    "dep_df = pd.read_csv(\"Data/GeoData/departements-france.csv\", sep=\",\",dtype=str)\n",
    "dep_df = dep_df.rename(columns= {\"code_departement\":\"code_dep\", \"nom_departement\":\"nom_dep\", \"nom_region\":\"nom_region\"})\n",
    "dep_df.head()"
   ]
  },
  {
   "cell_type": "code",
   "execution_count": 11,
   "metadata": {},
   "outputs": [
    {
     "data": {
      "text/html": [
       "<div>\n",
       "<style>\n",
       "    .dataframe thead tr:only-child th {\n",
       "        text-align: right;\n",
       "    }\n",
       "\n",
       "    .dataframe thead th {\n",
       "        text-align: left;\n",
       "    }\n",
       "\n",
       "    .dataframe tbody tr th {\n",
       "        vertical-align: top;\n",
       "    }\n",
       "</style>\n",
       "<table border=\"1\" class=\"dataframe\">\n",
       "  <thead>\n",
       "    <tr style=\"text-align: right;\">\n",
       "      <th></th>\n",
       "      <th>code</th>\n",
       "      <th>nom</th>\n",
       "      <th>geometry</th>\n",
       "    </tr>\n",
       "  </thead>\n",
       "  <tbody>\n",
       "    <tr>\n",
       "      <th>0</th>\n",
       "      <td>971</td>\n",
       "      <td>Guadeloupe</td>\n",
       "      <td>(POLYGON ((-61.79038 16.16682, -61.79164 16.16...</td>\n",
       "    </tr>\n",
       "    <tr>\n",
       "      <th>1</th>\n",
       "      <td>972</td>\n",
       "      <td>Martinique</td>\n",
       "      <td>(POLYGON ((-60.86733 14.38867, -60.86802 14.38...</td>\n",
       "    </tr>\n",
       "    <tr>\n",
       "      <th>2</th>\n",
       "      <td>973</td>\n",
       "      <td>Guyane</td>\n",
       "      <td>(POLYGON ((-53.87049 5.74494, -53.86464 5.7429...</td>\n",
       "    </tr>\n",
       "    <tr>\n",
       "      <th>3</th>\n",
       "      <td>976</td>\n",
       "      <td>Mayotte</td>\n",
       "      <td>(POLYGON ((45.04101 -12.64686, 45.04139 -12.64...</td>\n",
       "    </tr>\n",
       "    <tr>\n",
       "      <th>4</th>\n",
       "      <td>01</td>\n",
       "      <td>Ain</td>\n",
       "      <td>POLYGON ((4.78021 46.17668, 4.78024 46.18905, ...</td>\n",
       "    </tr>\n",
       "  </tbody>\n",
       "</table>\n",
       "</div>"
      ],
      "text/plain": [
       "  code         nom                                           geometry\n",
       "0  971  Guadeloupe  (POLYGON ((-61.79038 16.16682, -61.79164 16.16...\n",
       "1  972  Martinique  (POLYGON ((-60.86733 14.38867, -60.86802 14.38...\n",
       "2  973      Guyane  (POLYGON ((-53.87049 5.74494, -53.86464 5.7429...\n",
       "3  976     Mayotte  (POLYGON ((45.04101 -12.64686, 45.04139 -12.64...\n",
       "4   01         Ain  POLYGON ((4.78021 46.17668, 4.78024 46.18905, ..."
      ]
     },
     "execution_count": 11,
     "metadata": {},
     "output_type": "execute_result"
    }
   ],
   "source": [
    "geo_df.head()\n"
   ]
  },
  {
   "cell_type": "code",
   "execution_count": 12,
   "metadata": {},
   "outputs": [
    {
     "data": {
      "text/html": [
       "<div>\n",
       "<style>\n",
       "    .dataframe thead tr:only-child th {\n",
       "        text-align: right;\n",
       "    }\n",
       "\n",
       "    .dataframe thead th {\n",
       "        text-align: left;\n",
       "    }\n",
       "\n",
       "    .dataframe tbody tr th {\n",
       "        vertical-align: top;\n",
       "    }\n",
       "</style>\n",
       "<table border=\"1\" class=\"dataframe\">\n",
       "  <thead>\n",
       "    <tr style=\"text-align: right;\">\n",
       "      <th></th>\n",
       "      <th>code</th>\n",
       "      <th>nom</th>\n",
       "      <th>geometry</th>\n",
       "      <th>code_dep</th>\n",
       "      <th>nom_region</th>\n",
       "    </tr>\n",
       "  </thead>\n",
       "  <tbody>\n",
       "    <tr>\n",
       "      <th>0</th>\n",
       "      <td>971</td>\n",
       "      <td>Guadeloupe</td>\n",
       "      <td>(POLYGON ((-61.79038 16.16682, -61.79164 16.16...</td>\n",
       "      <td>971</td>\n",
       "      <td>Guadeloupe</td>\n",
       "    </tr>\n",
       "    <tr>\n",
       "      <th>1</th>\n",
       "      <td>972</td>\n",
       "      <td>Martinique</td>\n",
       "      <td>(POLYGON ((-60.86733 14.38867, -60.86802 14.38...</td>\n",
       "      <td>972</td>\n",
       "      <td>Martinique</td>\n",
       "    </tr>\n",
       "    <tr>\n",
       "      <th>2</th>\n",
       "      <td>973</td>\n",
       "      <td>Guyane</td>\n",
       "      <td>(POLYGON ((-53.87049 5.74494, -53.86464 5.7429...</td>\n",
       "      <td>973</td>\n",
       "      <td>Guyane</td>\n",
       "    </tr>\n",
       "    <tr>\n",
       "      <th>3</th>\n",
       "      <td>976</td>\n",
       "      <td>Mayotte</td>\n",
       "      <td>(POLYGON ((45.04101 -12.64686, 45.04139 -12.64...</td>\n",
       "      <td>976</td>\n",
       "      <td>Mayotte</td>\n",
       "    </tr>\n",
       "    <tr>\n",
       "      <th>4</th>\n",
       "      <td>01</td>\n",
       "      <td>Ain</td>\n",
       "      <td>POLYGON ((4.78021 46.17668, 4.78024 46.18905, ...</td>\n",
       "      <td>01</td>\n",
       "      <td>Auvergne-Rhône-Alpes</td>\n",
       "    </tr>\n",
       "  </tbody>\n",
       "</table>\n",
       "</div>"
      ],
      "text/plain": [
       "  code         nom                                           geometry  \\\n",
       "0  971  Guadeloupe  (POLYGON ((-61.79038 16.16682, -61.79164 16.16...   \n",
       "1  972  Martinique  (POLYGON ((-60.86733 14.38867, -60.86802 14.38...   \n",
       "2  973      Guyane  (POLYGON ((-53.87049 5.74494, -53.86464 5.7429...   \n",
       "3  976     Mayotte  (POLYGON ((45.04101 -12.64686, 45.04139 -12.64...   \n",
       "4   01         Ain  POLYGON ((4.78021 46.17668, 4.78024 46.18905, ...   \n",
       "\n",
       "  code_dep            nom_region  \n",
       "0      971            Guadeloupe  \n",
       "1      972            Martinique  \n",
       "2      973                Guyane  \n",
       "3      976               Mayotte  \n",
       "4       01  Auvergne-Rhône-Alpes  "
      ]
     },
     "execution_count": 12,
     "metadata": {},
     "output_type": "execute_result"
    }
   ],
   "source": [
    "geo_df = geo_df.merge(dep_df[[\"code_dep\", \"nom_region\"]], left_on=\"code\", right_on=\"code_dep\", how=\"left\")\n",
    "geo_df.head()"
   ]
  },
  {
   "cell_type": "code",
   "execution_count": 13,
   "metadata": {},
   "outputs": [],
   "source": [
    "geo_df = geo_df.drop([\"code_dep\"], axis=1)"
   ]
  },
  {
   "cell_type": "code",
   "execution_count": 15,
   "metadata": {},
   "outputs": [],
   "source": [
    "# Export\n",
    "geo_df.to_file(\"Data/GeoData/departements-avec-regions.geojson\", driver='GeoJSON')\n"
   ]
  },
  {
   "cell_type": "code",
   "execution_count": null,
   "metadata": {
    "collapsed": true
   },
   "outputs": [],
   "source": []
  },
  {
   "cell_type": "code",
   "execution_count": null,
   "metadata": {
    "collapsed": true
   },
   "outputs": [],
   "source": []
  },
  {
   "cell_type": "code",
   "execution_count": null,
   "metadata": {
    "collapsed": true
   },
   "outputs": [],
   "source": []
  }
 ],
 "metadata": {
  "kernelspec": {
   "display_name": "Python 3",
   "language": "python",
   "name": "python3"
  },
  "language_info": {
   "codemirror_mode": {
    "name": "ipython",
    "version": 3
   },
   "file_extension": ".py",
   "mimetype": "text/x-python",
   "name": "python",
   "nbconvert_exporter": "python",
   "pygments_lexer": "ipython3",
   "version": "3.6.2"
  }
 },
 "nbformat": 4,
 "nbformat_minor": 2
}
